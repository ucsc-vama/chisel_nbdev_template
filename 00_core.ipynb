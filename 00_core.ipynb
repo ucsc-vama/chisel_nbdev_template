{
 "cells": [
  {
   "cell_type": "code",
   "execution_count": null,
   "id": "usual-mixer",
   "metadata": {},
   "outputs": [],
   "source": [
    "//default_exp core"
   ]
  },
  {
   "cell_type": "markdown",
   "id": "standard-decision",
   "metadata": {},
   "source": [
    "# module name here\n",
    "\n",
    "> API details."
   ]
  },
  {
   "cell_type": "markdown",
   "id": "three-disease",
   "metadata": {},
   "source": [
    "### Load the Chisel dependencies from source.load_ivy.sc"
   ]
  },
  {
   "cell_type": "code",
   "execution_count": 1,
   "id": "automatic-sessions",
   "metadata": {},
   "outputs": [
    {
     "data": {
      "text/plain": [
       "\u001b[32mimport \u001b[39m\u001b[36m$file.$              , load_ivy._\u001b[39m"
      ]
     },
     "execution_count": 1,
     "metadata": {},
     "output_type": "execute_result"
    }
   ],
   "source": [
    "//export\n",
    "//default_exp coef\n",
    "import $file.source.load_ivy, load_ivy._"
   ]
  },
  {
   "cell_type": "markdown",
   "id": "historical-layer",
   "metadata": {},
   "source": [
    "To solve namespace issue between Almond and Chisel's Input, make sure to import Input like:\n",
    "```Scala\n",
    "import chisel3.{Input => Input}\n",
    "```\n"
   ]
  },
  {
   "cell_type": "code",
   "execution_count": 2,
   "id": "integral-disease",
   "metadata": {},
   "outputs": [
    {
     "data": {
      "text/plain": [
       "\u001b[32mimport \u001b[39m\u001b[36mchisel3.{Input => Input}\n",
       "\u001b[39m\n",
       "\u001b[32mimport \u001b[39m\u001b[36mchisel3._\n",
       "\u001b[39m\n",
       "\u001b[32mimport \u001b[39m\u001b[36mchisel3.util._\n",
       "\u001b[39m\n",
       "\u001b[32mimport \u001b[39m\u001b[36mchisel3.iotesters.{ChiselFlatSpec, Driver, PeekPokeTester}\n",
       "\u001b[39m\n",
       "\u001b[32mimport \u001b[39m\u001b[36mchisel3.tester.RawTester.test\n",
       "\u001b[39m\n",
       "\u001b[32mimport \u001b[39m\u001b[36mchisel3.tester._\u001b[39m"
      ]
     },
     "execution_count": 2,
     "metadata": {},
     "output_type": "execute_result"
    }
   ],
   "source": [
    "//hide\n",
    "//export\n",
    "import chisel3.{Input => Input}\n",
    "import chisel3._\n",
    "import chisel3.util._\n",
    "import chisel3.iotesters.{ChiselFlatSpec, Driver, PeekPokeTester}\n",
    "import chisel3.tester.RawTester.test\n",
    "import chisel3.tester._"
   ]
  },
  {
   "cell_type": "markdown",
   "id": "congressional-beaver",
   "metadata": {},
   "source": [
    "define a basic chisel module"
   ]
  },
  {
   "cell_type": "code",
   "execution_count": 3,
   "id": "strange-weight",
   "metadata": {},
   "outputs": [
    {
     "data": {
      "text/plain": [
       "defined \u001b[32mclass\u001b[39m \u001b[36mAdd\u001b[39m"
      ]
     },
     "execution_count": 3,
     "metadata": {},
     "output_type": "execute_result"
    }
   ],
   "source": [
    "//export\n",
    "class Add extends Module {\n",
    "  val io = IO(new Bundle {\n",
    "    val a = Input(UInt(4.W))\n",
    "    val b = Input(UInt(4.W))\n",
    "    val out = Output(UInt(4.W))\n",
    "  })\n",
    "  io.out := io.a + io.b\n",
    "}"
   ]
  },
  {
   "cell_type": "markdown",
   "id": "peripheral-blind",
   "metadata": {},
   "source": [
    "test the module"
   ]
  },
  {
   "cell_type": "code",
   "execution_count": 5,
   "id": "brown-engine",
   "metadata": {},
   "outputs": [
    {
     "name": "stdout",
     "output_type": "stream",
     "text": [
      "[\u001b[35minfo\u001b[0m] [0.001] Elaborating design...\n",
      "changed this[\u001b[35minfo\u001b[0m] [0.191] Done elaborating.\n",
      "file loaded in 0.004943459 seconds, 7 symbols, 3 statements\n",
      "test Add Success: 0 tests passed in 2 cycles in 0.046898 seconds 42.65 Hz\n"
     ]
    }
   ],
   "source": [
    "test(new Add) { c =>\n",
    "    c.io.a.poke(1.U)    \n",
    "    c.io.b.poke(2.U)    \n",
    "    c.io.out.expect(3.U)\n",
    "    \n",
    "    c.io.a.poke(5.U)    \n",
    "    c.io.b.poke(2.U)    \n",
    "    c.io.out.expect(7.U)\n",
    "}"
   ]
  },
  {
   "cell_type": "code",
   "execution_count": null,
   "id": "convertible-communications",
   "metadata": {},
   "outputs": [],
   "source": []
  }
 ],
 "metadata": {
  "kernelspec": {
   "display_name": "Scala",
   "language": "scala",
   "name": "scala"
  },
  "language_info": {
   "codemirror_mode": "text/x-scala",
   "file_extension": ".scala",
   "mimetype": "text/x-scala",
   "name": "scala",
   "nbconvert_exporter": "script",
   "version": "2.12.10"
  }
 },
 "nbformat": 4,
 "nbformat_minor": 5
}
