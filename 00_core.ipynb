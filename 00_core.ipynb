{
 "cells": [
  {
   "cell_type": "code",
   "execution_count": null,
   "id": "engaging-spyware",
   "metadata": {},
   "outputs": [],
   "source": [
    "//default_exp core"
   ]
  },
  {
   "cell_type": "markdown",
   "id": "architectural-sucking",
   "metadata": {},
   "source": [
    "# module name here\n",
    "\n",
    "> API details."
   ]
  },
  {
   "cell_type": "markdown",
   "id": "elder-fitness",
   "metadata": {},
   "source": [
    "### Load the Chisel dependencies from resource.chisel_deps.sc"
   ]
  },
  {
   "cell_type": "code",
   "execution_count": 1,
   "id": "advance-boulder",
   "metadata": {},
   "outputs": [
    {
     "name": "stdout",
     "output_type": "stream",
     "text": [
      "Compiling /Users/jasonvranek/code/notebooks/chisel_nbdev_template/resource/chisel_deps.sc"
     ]
    },
    {
     "data": {
      "text/plain": [
       "\u001b[32mimport \u001b[39m\u001b[36m$file.$                   , chisel_deps._\u001b[39m"
      ]
     },
     "execution_count": 1,
     "metadata": {},
     "output_type": "execute_result"
    }
   ],
   "source": [
    "//export\n",
    "//default_exp coef\n",
    "import $file.resource.chisel_deps, chisel_deps._"
   ]
  },
  {
   "cell_type": "markdown",
   "id": "handed-vanilla",
   "metadata": {},
   "source": [
    "To solve namespace issue between Almond and Chisel's Input, make sure to import Input like:\n",
    "```Scala\n",
    "import chisel3.{Input => Input}\n",
    "```\n"
   ]
  },
  {
   "cell_type": "code",
   "execution_count": 2,
   "id": "color-voice",
   "metadata": {},
   "outputs": [
    {
     "data": {
      "text/plain": [
       "\u001b[32mimport \u001b[39m\u001b[36mchisel3.{Input => Input}\n",
       "\u001b[39m\n",
       "\u001b[32mimport \u001b[39m\u001b[36mchisel3._\n",
       "\u001b[39m\n",
       "\u001b[32mimport \u001b[39m\u001b[36mchisel3.util._\n",
       "\u001b[39m\n",
       "\u001b[32mimport \u001b[39m\u001b[36mchisel3.iotesters.{ChiselFlatSpec, Driver, PeekPokeTester}\n",
       "\u001b[39m\n",
       "\u001b[32mimport \u001b[39m\u001b[36mchisel3.tester.RawTester.test\n",
       "\u001b[39m\n",
       "\u001b[32mimport \u001b[39m\u001b[36mchisel3.tester._\u001b[39m"
      ]
     },
     "execution_count": 2,
     "metadata": {},
     "output_type": "execute_result"
    }
   ],
   "source": [
    "//hide\n",
    "//export\n",
    "import chisel3.{Input => Input}\n",
    "import chisel3._\n",
    "import chisel3.util._\n",
    "import chisel3.iotesters.{ChiselFlatSpec, Driver, PeekPokeTester}\n",
    "import chisel3.tester.RawTester.test\n",
    "import chisel3.tester._"
   ]
  },
  {
   "cell_type": "markdown",
   "id": "finished-affairs",
   "metadata": {},
   "source": [
    "define a basic chisel module"
   ]
  },
  {
   "cell_type": "code",
   "execution_count": 3,
   "id": "protected-silly",
   "metadata": {},
   "outputs": [
    {
     "data": {
      "text/plain": [
       "defined \u001b[32mclass\u001b[39m \u001b[36mAdd\u001b[39m"
      ]
     },
     "execution_count": 3,
     "metadata": {},
     "output_type": "execute_result"
    }
   ],
   "source": [
    "//export\n",
    "class Add extends Module {\n",
    "  val io = IO(new Bundle {\n",
    "    val a = Input(UInt(4.W))\n",
    "    val b = Input(UInt(4.W))\n",
    "    val out = Output(UInt(4.W))\n",
    "  })\n",
    "  io.out := io.a + io.b\n",
    "}"
   ]
  },
  {
   "cell_type": "markdown",
   "id": "coordinated-enough",
   "metadata": {},
   "source": [
    "test the module"
   ]
  },
  {
   "cell_type": "code",
   "execution_count": 4,
   "id": "willing-browse",
   "metadata": {},
   "outputs": [
    {
     "name": "stdout",
     "output_type": "stream",
     "text": [
      "[\u001b[35minfo\u001b[0m] [0.001] Elaborating design...\n",
      "[\u001b[35minfo\u001b[0m] [1.337] Done elaborating.\n",
      "file loaded in 0.036402834 seconds, 7 symbols, 3 statements\n",
      "test Add Success: 0 tests passed in 2 cycles in 0.046515 seconds 43.00 Hz\n"
     ]
    }
   ],
   "source": [
    "test(new Add) { c =>\n",
    "    c.io.a.poke(1.U)    \n",
    "    c.io.b.poke(2.U)    \n",
    "    c.io.out.expect(3.U)\n",
    "    \n",
    "    c.io.a.poke(5.U)    \n",
    "    c.io.b.poke(2.U)    \n",
    "    c.io.out.expect(7.U)\n",
    "}"
   ]
  },
  {
   "cell_type": "code",
   "execution_count": null,
   "id": "rural-village",
   "metadata": {},
   "outputs": [],
   "source": []
  }
 ],
 "metadata": {
  "kernelspec": {
   "display_name": "Scala",
   "language": "scala",
   "name": "scala"
  },
  "language_info": {
   "codemirror_mode": "text/x-scala",
   "file_extension": ".scala",
   "mimetype": "text/x-scala",
   "name": "scala",
   "nbconvert_exporter": "script",
   "version": "2.12.10"
  }
 },
 "nbformat": 4,
 "nbformat_minor": 5
}
