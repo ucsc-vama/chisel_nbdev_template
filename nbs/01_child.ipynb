{
 "cells": [
  {
   "cell_type": "markdown",
   "id": "inappropriate-trace",
   "metadata": {},
   "source": [
    "All notebooks must have a cell with the `//default_exp <module_name>` tag. This tag will generate a Scala script `child.sc` in the `lib/` folder."
   ]
  },
  {
   "cell_type": "code",
   "execution_count": null,
   "id": "continuous-patient",
   "metadata": {},
   "outputs": [],
   "source": [
    "//default_exp child"
   ]
  },
  {
   "cell_type": "markdown",
   "id": "imposed-ministry",
   "metadata": {},
   "source": [
    "## Importing code from other notebooks\n",
    "> In `00_parent.ipynb` we defined an `Add` module in Chisel. By running `chisel_nbdev_build_lib` we generated the file `parent.sc` to the destination `lib`. (To change this destination, modify `lib_name` in `settings.ini` to something other than `lib`."
   ]
  },
  {
   "cell_type": "markdown",
   "id": "included-sunday",
   "metadata": {},
   "source": [
    "We can import the full contents of the Scala script using the following notation:\n",
    "```Scala\n",
    "import $file.^.lib.parent, parent._\n",
    "```"
   ]
  },
  {
   "cell_type": "code",
   "execution_count": null,
   "id": "racial-yield",
   "metadata": {},
   "outputs": [
    {
     "name": "stdout",
     "output_type": "stream",
     "text": [
      "Compiling /Users/jasonvranek/code/notebooks/chisel_nbdev_template/lib/parent.sc"
     ]
    },
    {
     "data": {
      "text/plain": [
       "\u001b[32mimport \u001b[39m\u001b[36m$file.$           , parent._\u001b[39m"
      ]
     },
     "execution_count": null,
     "metadata": {},
     "output_type": "execute_result"
    }
   ],
   "source": [
    "//hide\n",
    "//export\n",
    "import $file.^.lib.parent, parent._"
   ]
  },
  {
   "cell_type": "markdown",
   "id": "sufficient-atlas",
   "metadata": {},
   "source": [
    "Alternatively you can import like\n",
    "```Scala\n",
    "import $file.^.lib.parent\n",
    "```\n",
    "and use like `parent.Add`"
   ]
  },
  {
   "cell_type": "markdown",
   "id": "humanitarian-hospital",
   "metadata": {},
   "source": [
    "### Load the Chisel dependencies from resource.chisel_deps.sc\n",
    "> The exact version of Chisel3 and testers are defined in resources/chisel_deps.sc"
   ]
  },
  {
   "cell_type": "code",
   "execution_count": null,
   "id": "daily-protection",
   "metadata": {},
   "outputs": [
    {
     "data": {
      "text/plain": [
       "\u001b[32mimport \u001b[39m\u001b[36m$file.$                     , chisel_deps._\u001b[39m"
      ]
     },
     "execution_count": null,
     "metadata": {},
     "output_type": "execute_result"
    }
   ],
   "source": [
    "//export\n",
    "import $file.^.resource.chisel_deps, chisel_deps._"
   ]
  },
  {
   "cell_type": "markdown",
   "id": "sexual-hamburg",
   "metadata": {},
   "source": [
    "To resolve namespace issue between Almond and Chisel's Input, make sure to import Input like:\n",
    "```Scala\n",
    "import chisel3.{Input => Input}\n",
    "```\n"
   ]
  },
  {
   "cell_type": "code",
   "execution_count": null,
   "id": "cheap-childhood",
   "metadata": {},
   "outputs": [
    {
     "data": {
      "text/plain": [
       "\u001b[32mimport \u001b[39m\u001b[36mchisel3.{Input => Input}\n",
       "\u001b[39m\n",
       "\u001b[32mimport \u001b[39m\u001b[36mchisel3._\n",
       "\u001b[39m\n",
       "\u001b[32mimport \u001b[39m\u001b[36mchisel3.util._\n",
       "\u001b[39m\n",
       "\u001b[32mimport \u001b[39m\u001b[36mchisel3.iotesters.{ChiselFlatSpec, Driver, PeekPokeTester}\n",
       "\u001b[39m\n",
       "\u001b[32mimport \u001b[39m\u001b[36mchisel3.tester.RawTester.test\n",
       "\u001b[39m\n",
       "\u001b[32mimport \u001b[39m\u001b[36mchisel3.tester._\u001b[39m"
      ]
     },
     "execution_count": null,
     "metadata": {},
     "output_type": "execute_result"
    }
   ],
   "source": [
    "//hide\n",
    "//export\n",
    "import chisel3.{Input => Input}\n",
    "import chisel3._\n",
    "import chisel3.util._\n",
    "import chisel3.iotesters.{ChiselFlatSpec, Driver, PeekPokeTester}\n",
    "import chisel3.tester.RawTester.test\n",
    "import chisel3.tester._"
   ]
  },
  {
   "cell_type": "markdown",
   "id": "swiss-procedure",
   "metadata": {},
   "source": [
    "This test should compile and pass as we brought `Add` into the notebook scope."
   ]
  },
  {
   "cell_type": "code",
   "execution_count": null,
   "id": "colored-cleanup",
   "metadata": {},
   "outputs": [
    {
     "name": "stdout",
     "output_type": "stream",
     "text": [
      "[\u001b[35minfo\u001b[0m] [0.001] Elaborating design...\n",
      "[\u001b[35minfo\u001b[0m] [1.227] Done elaborating.\n",
      "file loaded in 0.033681041 seconds, 7 symbols, 3 statements\n",
      "test Add Success: 0 tests passed in 4 cycles in 0.042766 seconds 93.53 Hz\n"
     ]
    }
   ],
   "source": [
    "test(new Add) { c =>\n",
    "    c.io.a.poke(1.U)    \n",
    "    c.io.b.poke(2.U)    \n",
    "    c.clock.step(1)    \n",
    "    c.io.out.expect(3.U)\n",
    "    \n",
    "    c.io.a.poke(5.U)    \n",
    "    c.io.b.poke(2.U)    \n",
    "    c.clock.step(1)    \n",
    "    c.io.out.expect(7.U)\n",
    "}"
   ]
  },
  {
   "cell_type": "markdown",
   "id": "controlled-doubt",
   "metadata": {},
   "source": [
    "# ComposedModule\n",
    "\n",
    "> We can use the Add module now to build more complex modules."
   ]
  },
  {
   "cell_type": "code",
   "execution_count": null,
   "id": "personal-printer",
   "metadata": {},
   "outputs": [
    {
     "data": {
      "text/plain": [
       "defined \u001b[32mclass\u001b[39m \u001b[36mComposedModule\u001b[39m"
      ]
     },
     "execution_count": null,
     "metadata": {},
     "output_type": "execute_result"
    }
   ],
   "source": [
    "//export\n",
    "class ComposedModule extends Module {\n",
    "    val io = IO(new Bundle {\n",
    "        val a = Input(UInt(4.W))\n",
    "        val b = Input(UInt(4.W))\n",
    "        val c = Input(UInt(4.W))\n",
    "        val out = Output(UInt(4.W))\n",
    "    })\n",
    "    val addr = Module(new Add)\n",
    "    addr.io.a := io.a\n",
    "    addr.io.b := io.b\n",
    "    io.out := addr.io.out + io.c\n",
    "}"
   ]
  },
  {
   "cell_type": "markdown",
   "id": "distinct-moisture",
   "metadata": {},
   "source": [
    "Test the module using `chisel3.iotesters.PeekPokeTester`."
   ]
  },
  {
   "cell_type": "code",
   "execution_count": null,
   "id": "super-anchor",
   "metadata": {},
   "outputs": [
    {
     "name": "stdout",
     "output_type": "stream",
     "text": [
      "[\u001b[35minfo\u001b[0m] [0.000] Elaborating design...\n",
      "[\u001b[35minfo\u001b[0m] [0.078] Done elaborating.\n",
      "Total FIRRTL Compile Time: 67.9 ms\n",
      "Total FIRRTL Compile Time: 45.1 ms\n",
      "End of dependency graph\n",
      "Circuit state created\n",
      "[\u001b[35minfo\u001b[0m] [0.001] SEED 1615354558172\n",
      "test ComposedModule Success: 2 tests passed in 5 cycles taking 0.007856 seconds\n",
      "[\u001b[35minfo\u001b[0m] [0.006] RAN 0 CYCLES PASSED\n"
     ]
    }
   ],
   "source": [
    "assert(Driver(() => new ComposedModule) {\n",
    "    c => new PeekPokeTester(c) {    \n",
    "        poke(c.io.a, 1)    \n",
    "        poke(c.io.b, 2)\n",
    "        poke(c.io.c, 3)\n",
    "        expect(c.io.out, 6)\n",
    "\n",
    "        poke(c.io.a, 5)    \n",
    "        poke(c.io.b, 2)    \n",
    "        poke(c.io.c, 7)    \n",
    "        expect(c.io.out, 14)\n",
    "    }\n",
    "})"
   ]
  },
  {
   "cell_type": "code",
   "execution_count": null,
   "id": "improving-source",
   "metadata": {},
   "outputs": [],
   "source": []
  }
 ],
 "metadata": {
  "kernelspec": {
   "display_name": "Scala",
   "language": "scala",
   "name": "scala"
  }
 },
 "nbformat": 4,
 "nbformat_minor": 5
}
