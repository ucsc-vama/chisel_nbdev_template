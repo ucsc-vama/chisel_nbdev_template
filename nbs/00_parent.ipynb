{
 "cells": [
  {
   "cell_type": "markdown",
   "id": "median-welcome",
   "metadata": {},
   "source": [
    "All notebooks must have a cell with the `//default_exp <module_name>` tag. This tag will generate a Scala script `parent.sc` in the `lib/` folder."
   ]
  },
  {
   "cell_type": "code",
   "execution_count": null,
   "id": "isolated-spread",
   "metadata": {},
   "outputs": [],
   "source": [
    "//default_exp parent"
   ]
  },
  {
   "cell_type": "markdown",
   "id": "sporting-portable",
   "metadata": {},
   "source": [
    "### Load the Chisel dependencies from resource.chisel_deps.sc\n",
    "> The exact version of Chisel3 and testers are defined in resources/chisel_deps.sc"
   ]
  },
  {
   "cell_type": "code",
   "execution_count": null,
   "id": "proud-mexican",
   "metadata": {},
   "outputs": [
    {
     "data": {
      "text/plain": [
       "\u001b[32mimport \u001b[39m\u001b[36m$file.$                     , chisel_deps._\u001b[39m"
      ]
     },
     "execution_count": null,
     "metadata": {},
     "output_type": "execute_result"
    }
   ],
   "source": [
    "//export\n",
    "import $file.^.resource.chisel_deps, chisel_deps._"
   ]
  },
  {
   "cell_type": "markdown",
   "id": "awful-gauge",
   "metadata": {},
   "source": [
    "To resolve namespace issue between Almond and Chisel's Input, make sure to import Input like:\n",
    "```Scala\n",
    "import chisel3.{Input => Input}\n",
    "```\n"
   ]
  },
  {
   "cell_type": "code",
   "execution_count": null,
   "id": "smart-consolidation",
   "metadata": {},
   "outputs": [
    {
     "data": {
      "text/plain": [
       "\u001b[32mimport \u001b[39m\u001b[36mchisel3.{Input => Input}\n",
       "\u001b[39m\n",
       "\u001b[32mimport \u001b[39m\u001b[36mchisel3._\n",
       "\u001b[39m\n",
       "\u001b[32mimport \u001b[39m\u001b[36mchisel3.util._\n",
       "\u001b[39m\n",
       "\u001b[32mimport \u001b[39m\u001b[36mchisel3.iotesters.{ChiselFlatSpec, Driver, PeekPokeTester}\n",
       "\u001b[39m\n",
       "\u001b[32mimport \u001b[39m\u001b[36mchisel3.tester.RawTester.test\n",
       "\u001b[39m\n",
       "\u001b[32mimport \u001b[39m\u001b[36mchisel3.tester._\u001b[39m"
      ]
     },
     "execution_count": null,
     "metadata": {},
     "output_type": "execute_result"
    }
   ],
   "source": [
    "//hide\n",
    "//export\n",
    "import chisel3.{Input => Input}\n",
    "import chisel3._\n",
    "import chisel3.util._\n",
    "import chisel3.iotesters.{ChiselFlatSpec, Driver, PeekPokeTester}\n",
    "import chisel3.tester.RawTester.test\n",
    "import chisel3.tester._"
   ]
  },
  {
   "cell_type": "markdown",
   "id": "honest-infection",
   "metadata": {},
   "source": [
    "# Add\n",
    "\n",
    "> A 4-bit adder with no bit-growth. (we include the `//export` cell tag to instruct chisel_nbdev to export this class when we call `chisel_nbdev_build_lib`)"
   ]
  },
  {
   "cell_type": "code",
   "execution_count": null,
   "id": "wired-frequency",
   "metadata": {},
   "outputs": [
    {
     "data": {
      "text/plain": [
       "defined \u001b[32mclass\u001b[39m \u001b[36mAdd\u001b[39m"
      ]
     },
     "execution_count": null,
     "metadata": {},
     "output_type": "execute_result"
    }
   ],
   "source": [
    "//export\n",
    "class Add extends Module {\n",
    "  val io = IO(new Bundle {\n",
    "    val a = Input(UInt(4.W))\n",
    "    val b = Input(UInt(4.W))\n",
    "    val out = Output(UInt(4.W))\n",
    "  })\n",
    "  io.out := io.a + io.b\n",
    "}"
   ]
  },
  {
   "cell_type": "markdown",
   "id": "ranking-hollywood",
   "metadata": {},
   "source": [
    "Test the module using `chisel3.tester.RawTester.test`."
   ]
  },
  {
   "cell_type": "code",
   "execution_count": null,
   "id": "lightweight-progress",
   "metadata": {},
   "outputs": [
    {
     "name": "stdout",
     "output_type": "stream",
     "text": [
      "[\u001b[35minfo\u001b[0m] [0.001] Elaborating design...\n",
      "[\u001b[35minfo\u001b[0m] [1.231] Done elaborating.\n",
      "file loaded in 0.034435584 seconds, 7 symbols, 3 statements\n",
      "test Add Success: 0 tests passed in 2 cycles in 0.050192 seconds 39.85 Hz\n"
     ]
    }
   ],
   "source": [
    "test(new Add) { c =>\n",
    "    c.io.a.poke(1.U)    \n",
    "    c.io.b.poke(2.U)    \n",
    "    c.io.out.expect(3.U)\n",
    "    \n",
    "    c.io.a.poke(5.U)    \n",
    "    c.io.b.poke(2.U)    \n",
    "    c.io.out.expect(7.U)\n",
    "}"
   ]
  },
  {
   "cell_type": "code",
   "execution_count": null,
   "id": "saved-thing",
   "metadata": {},
   "outputs": [],
   "source": []
  }
 ],
 "metadata": {
  "kernelspec": {
   "display_name": "Scala",
   "language": "scala",
   "name": "scala"
  }
 },
 "nbformat": 4,
 "nbformat_minor": 5
}
